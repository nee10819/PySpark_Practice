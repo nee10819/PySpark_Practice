{
 "cells": [
  {
   "cell_type": "code",
   "execution_count": 1,
   "metadata": {},
   "outputs": [],
   "source": [
    "from pyspark.sql import SparkSession\n",
    "spark = SparkSession.builder.appName('mytree').getOrCreate()"
   ]
  },
  {
   "cell_type": "code",
   "execution_count": 2,
   "metadata": {},
   "outputs": [],
   "source": [
    "from pyspark.ml import Pipeline"
   ]
  },
  {
   "cell_type": "code",
   "execution_count": 10,
   "metadata": {},
   "outputs": [],
   "source": [
    "from pyspark.ml.classification import (RandomForestClassifier,\n",
    "                                       GBTClassifier,\n",
    "                                       DecisionTreeClassifier)"
   ]
  },
  {
   "cell_type": "code",
   "execution_count": 5,
   "metadata": {},
   "outputs": [],
   "source": [
    "data = spark.read.format('libsvm').load('sample_libsvm_data.txt')"
   ]
  },
  {
   "cell_type": "code",
   "execution_count": 7,
   "metadata": {},
   "outputs": [
    {
     "name": "stdout",
     "output_type": "stream",
     "text": [
      "+-----+--------------------+\n",
      "|label|            features|\n",
      "+-----+--------------------+\n",
      "|  0.0|(692,[127,128,129...|\n",
      "|  1.0|(692,[158,159,160...|\n",
      "|  1.0|(692,[124,125,126...|\n",
      "|  1.0|(692,[152,153,154...|\n",
      "|  1.0|(692,[151,152,153...|\n",
      "|  0.0|(692,[129,130,131...|\n",
      "|  1.0|(692,[158,159,160...|\n",
      "|  1.0|(692,[99,100,101,...|\n",
      "|  0.0|(692,[154,155,156...|\n",
      "|  0.0|(692,[127,128,129...|\n",
      "|  1.0|(692,[154,155,156...|\n",
      "|  0.0|(692,[153,154,155...|\n",
      "|  0.0|(692,[151,152,153...|\n",
      "|  1.0|(692,[129,130,131...|\n",
      "|  0.0|(692,[154,155,156...|\n",
      "|  1.0|(692,[150,151,152...|\n",
      "|  0.0|(692,[124,125,126...|\n",
      "|  0.0|(692,[152,153,154...|\n",
      "|  1.0|(692,[97,98,99,12...|\n",
      "|  1.0|(692,[124,125,126...|\n",
      "+-----+--------------------+\n",
      "only showing top 20 rows\n",
      "\n"
     ]
    }
   ],
   "source": [
    "data.show()"
   ]
  },
  {
   "cell_type": "code",
   "execution_count": 8,
   "metadata": {},
   "outputs": [],
   "source": [
    "train_data,test_data = data.randomSplit([0.7,0.3])"
   ]
  },
  {
   "cell_type": "code",
   "execution_count": 12,
   "metadata": {},
   "outputs": [],
   "source": [
    "dtc = DecisionTreeClassifier()\n",
    "rfc = RandomForestClassifier(numTrees=100)\n",
    "gbt = GBTClassifier()"
   ]
  },
  {
   "cell_type": "code",
   "execution_count": 13,
   "metadata": {},
   "outputs": [],
   "source": [
    "dtc_model = dtc.fit(train_data)\n",
    "rfc_model = rfc.fit(train_data)\n",
    "gbt_model = gbt.fit(train_data)"
   ]
  },
  {
   "cell_type": "code",
   "execution_count": 14,
   "metadata": {},
   "outputs": [],
   "source": [
    "dtc_preds = dtc_model.transform(test_data)\n",
    "rfc_preds = rfc_model.transform(test_data)\n",
    "gbt_preds = gbt_model.transform(test_data)"
   ]
  },
  {
   "cell_type": "code",
   "execution_count": 15,
   "metadata": {},
   "outputs": [],
   "source": [
    "from pyspark.ml.evaluation import MulticlassClassificationEvaluator"
   ]
  },
  {
   "cell_type": "code",
   "execution_count": 16,
   "metadata": {},
   "outputs": [],
   "source": [
    "acc_eval = MulticlassClassificationEvaluator(metricName='accuracy')"
   ]
  },
  {
   "cell_type": "code",
   "execution_count": 17,
   "metadata": {},
   "outputs": [
    {
     "data": {
      "text/plain": [
       "0.9666666666666667"
      ]
     },
     "execution_count": 17,
     "metadata": {},
     "output_type": "execute_result"
    }
   ],
   "source": [
    "acc_eval.evaluate(dtc_preds)"
   ]
  },
  {
   "cell_type": "code",
   "execution_count": 18,
   "metadata": {},
   "outputs": [
    {
     "data": {
      "text/plain": [
       "1.0"
      ]
     },
     "execution_count": 18,
     "metadata": {},
     "output_type": "execute_result"
    }
   ],
   "source": [
    "acc_eval.evaluate(rfc_preds)"
   ]
  },
  {
   "cell_type": "code",
   "execution_count": 19,
   "metadata": {},
   "outputs": [
    {
     "data": {
      "text/plain": [
       "0.9666666666666667"
      ]
     },
     "execution_count": 19,
     "metadata": {},
     "output_type": "execute_result"
    }
   ],
   "source": [
    "acc_eval.evaluate(gbt_preds)"
   ]
  },
  {
   "cell_type": "code",
   "execution_count": 20,
   "metadata": {},
   "outputs": [
    {
     "data": {
      "text/plain": [
       "SparseVector(692, {99: 0.0011, 100: 0.0011, 101: 0.0008, 102: 0.0004, 149: 0.0006, 156: 0.0004, 159: 0.0004, 177: 0.0006, 181: 0.0017, 182: 0.0046, 186: 0.0007, 187: 0.0008, 209: 0.0003, 217: 0.0018, 218: 0.0005, 234: 0.0008, 235: 0.0065, 239: 0.0005, 240: 0.0006, 243: 0.0013, 244: 0.0106, 245: 0.0085, 260: 0.0011, 262: 0.0076, 263: 0.0086, 271: 0.0006, 272: 0.0155, 273: 0.0141, 290: 0.0206, 291: 0.0027, 296: 0.0013, 298: 0.0003, 299: 0.0043, 300: 0.0279, 301: 0.0007, 315: 0.001, 317: 0.0011, 319: 0.0002, 322: 0.0029, 323: 0.0058, 324: 0.0005, 326: 0.0005, 329: 0.0057, 330: 0.0019, 341: 0.0011, 344: 0.0098, 351: 0.0102, 355: 0.0031, 356: 0.0149, 357: 0.0026, 358: 0.0078, 359: 0.0018, 360: 0.0005, 370: 0.0013, 373: 0.0076, 378: 0.0175, 379: 0.0222, 382: 0.0005, 384: 0.0077, 385: 0.0094, 386: 0.0017, 387: 0.0045, 400: 0.0199, 403: 0.0004, 405: 0.0015, 406: 0.0107, 407: 0.02, 408: 0.0014, 411: 0.0041, 412: 0.0075, 413: 0.0009, 426: 0.0223, 427: 0.0074, 428: 0.0001, 429: 0.0209, 430: 0.0025, 432: 0.0016, 433: 0.0231, 434: 0.0187, 435: 0.0316, 437: 0.0011, 440: 0.0248, 441: 0.0012, 442: 0.0081, 443: 0.0022, 454: 0.0095, 455: 0.002, 457: 0.0041, 461: 0.0255, 462: 0.0405, 463: 0.0201, 466: 0.0011, 467: 0.0051, 468: 0.0274, 469: 0.0143, 470: 0.0014, 471: 0.0006, 482: 0.0007, 483: 0.0192, 484: 0.0084, 485: 0.0012, 488: 0.0029, 489: 0.0148, 490: 0.0501, 491: 0.0017, 492: 0.0012, 495: 0.0004, 496: 0.0012, 497: 0.0004, 509: 0.0026, 510: 0.0085, 511: 0.0407, 512: 0.0372, 517: 0.0634, 518: 0.0078, 519: 0.0004, 523: 0.0003, 524: 0.0006, 525: 0.0091, 539: 0.0149, 540: 0.0034, 545: 0.0078, 549: 0.0007, 551: 0.0021, 552: 0.0087, 568: 0.001, 574: 0.0007, 576: 0.0025, 578: 0.0006, 597: 0.0003, 598: 0.0013, 621: 0.0006, 626: 0.0004, 627: 0.0006, 631: 0.0004, 637: 0.0007, 655: 0.0015, 657: 0.0008, 663: 0.0012})"
      ]
     },
     "execution_count": 20,
     "metadata": {},
     "output_type": "execute_result"
    }
   ],
   "source": [
    "rfc_model.featureImportances"
   ]
  },
  {
   "cell_type": "code",
   "execution_count": null,
   "metadata": {},
   "outputs": [],
   "source": []
  }
 ],
 "metadata": {
  "kernelspec": {
   "display_name": "Python 3",
   "language": "python",
   "name": "python3"
  },
  "language_info": {
   "codemirror_mode": {
    "name": "ipython",
    "version": 3
   },
   "file_extension": ".py",
   "mimetype": "text/x-python",
   "name": "python",
   "nbconvert_exporter": "python",
   "pygments_lexer": "ipython3",
   "version": "3.6.5"
  }
 },
 "nbformat": 4,
 "nbformat_minor": 2
}
